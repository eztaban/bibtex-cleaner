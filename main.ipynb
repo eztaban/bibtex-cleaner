{
 "cells": [
  {
   "cell_type": "markdown",
   "metadata": {},
   "source": [
    "# Latex Citation Cleaner\n",
    "\n",
    "\n",
    "\n",
    "The latex citation cleaner is a simple tool designed to clean `.bib` files before publishing.  \n",
    "\n",
    "To use, place folder or zip-file with latex project in folder `input`\n",
    "\n",
    "The tool has 4 modes as listed below:  \n",
    "\n",
    "# LaTeX Citation Cleaner Modes\n",
    "\n",
    "The LaTeX Citation Cleaner supports four modes of operation, depending on the input and the task. Below is a summary of the modes:\n",
    "\n",
    "| Mode                      | Method                                   | Arguments                                                                                       | Description                                                                                   |\n",
    "|---------------------------|------------------------------------------|------------------------------------------------------------------------------------------------|-----------------------------------------------------------------------------------------------|\n",
    "| **Specific Files**        | `lcc.specific_files`                    | `dot_bib_location=bib`, `dot_tex_location=tex`                                                 | Use specific `.tex` files in a folder to clean the specified `.bib` file.                |\n",
    "| **Specific Files in Zip** | `lcc.specific_files_in_zip`             | `zip=zipfile`, `dot_bib_location=bib`, `dot_tex_location=tex`                                  | Use specific `.tex` files in a zip archive to clean the specified `.bib` file.           |\n",
    "| **All `.tex` in Folder**  | `lcc.all_tex_in_folder`                 | `folder=folder`                                                                                | Use all `.tex` files in a folder to clean the `.bib` file. If no `.bib` is specified, the tool will search for one automatically.                                                     |\n",
    "| **All `.tex` in Zip**     | `lcc.all_tex_in_zip`                    | `zip=zipfile`                                                                                 | Use all `.tex` files in a zip archive clean the `.bib` file. If no `.bib` is specified, the tool will search for one automatically.                                                |\n",
    "\n",
    "\n",
    "[Main Readme](README.md)  \n",
    "[API documentation](doc.md)"
   ]
  },
  {
   "cell_type": "code",
   "execution_count": 8,
   "metadata": {},
   "outputs": [
    {
     "name": "stdout",
     "output_type": "stream",
     "text": [
      "Data exported to output/citations_report.xlsx\n",
      "Filtered .bib file saved as 'output/filtered_biblio.bib'\n"
     ]
    }
   ],
   "source": [
    "from src import LatexCitationCleaner\n",
    "\n",
    "bib = r\"absolute/path/to/biblio.bib\"\n",
    "tex = r\"absolute/path/to/any.tex\"\n",
    "folder = r\"absolute/path/to/folder/with/project\"\n",
    "zipfile = r\"absolute/path/to/project.zip\"\n",
    "\n",
    "\n",
    "lcc = LatexCitationCleaner()\n",
    "# lcc.specific_files(dot_bib_location=bib, dot_tex_location=tex)\n",
    "# lcc.specific_fiels_in_zip(zip=zipfile, dot_bib_location = bib, dot_tex_location=tex)\n",
    "# lcc.all_tex_in_folder(folder=folder)\n",
    "lcc.all_tex_in_zip(zip=zipfile)\n",
    "\n",
    "lcc.load()\n",
    "lcc.analyze()\n",
    "lcc.to_excel()\n",
    "lcc.make_clean_bib()\n"
   ]
  },
  {
   "cell_type": "markdown",
   "metadata": {},
   "source": [
    "## Cleanup workspace\n",
    "\n",
    "Will remove any files left in the `tmp`directory and the `output` directory.  \n",
    "Optionally, also run `clear_folder(\"input\")` to remove any files in the input directory."
   ]
  },
  {
   "cell_type": "code",
   "execution_count": 9,
   "metadata": {},
   "outputs": [],
   "source": [
    "from src import clear_folder\n",
    "\n",
    "clear_folder(\"tmp\")\n",
    "clear_folder(\"output\")"
   ]
  },
  {
   "cell_type": "code",
   "execution_count": 10,
   "metadata": {},
   "outputs": [],
   "source": [
    "clear_folder(\"input\")"
   ]
  }
 ],
 "metadata": {
  "kernelspec": {
   "display_name": "bibtex_clean",
   "language": "python",
   "name": "python3"
  },
  "language_info": {
   "codemirror_mode": {
    "name": "ipython",
    "version": 3
   },
   "file_extension": ".py",
   "mimetype": "text/x-python",
   "name": "python",
   "nbconvert_exporter": "python",
   "pygments_lexer": "ipython3",
   "version": "3.10.16"
  }
 },
 "nbformat": 4,
 "nbformat_minor": 2
}
